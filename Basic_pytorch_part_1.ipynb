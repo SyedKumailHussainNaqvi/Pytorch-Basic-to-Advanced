{
  "nbformat": 4,
  "nbformat_minor": 0,
  "metadata": {
    "colab": {
      "provenance": []
    },
    "kernelspec": {
      "name": "python3",
      "display_name": "Python 3"
    },
    "language_info": {
      "name": "python"
    }
  },
  "cells": [
    {
      "cell_type": "markdown",
      "source": [
        "# ***Import Pytorch***"
      ],
      "metadata": {
        "id": "dXLaj7_pCe6d"
      }
    },
    {
      "cell_type": "code",
      "execution_count": 1,
      "metadata": {
        "id": "P7vZWVlI8XNo"
      },
      "outputs": [],
      "source": [
        "import torch"
      ]
    },
    {
      "cell_type": "code",
      "source": [
        "torch.__version__"
      ],
      "metadata": {
        "colab": {
          "base_uri": "https://localhost:8080/",
          "height": 36
        },
        "id": "cUVwAxIz9oSw",
        "outputId": "c27d2994-25eb-47dc-c0ee-562c92257c84"
      },
      "execution_count": 2,
      "outputs": [
        {
          "output_type": "execute_result",
          "data": {
            "text/plain": [
              "'2.5.1+cu121'"
            ],
            "application/vnd.google.colaboratory.intrinsic+json": {
              "type": "string"
            }
          },
          "metadata": {},
          "execution_count": 2
        }
      ]
    },
    {
      "cell_type": "markdown",
      "source": [
        "# **Scalar**"
      ],
      "metadata": {
        "id": "ny2gQAaACq-N"
      }
    },
    {
      "cell_type": "code",
      "source": [
        "scaler = torch.tensor(8)\n",
        "scaler"
      ],
      "metadata": {
        "colab": {
          "base_uri": "https://localhost:8080/"
        },
        "id": "_Tpn22oC9xOa",
        "outputId": "3ea1d1e2-fd41-4f15-e999-c0caf3515644"
      },
      "execution_count": 3,
      "outputs": [
        {
          "output_type": "execute_result",
          "data": {
            "text/plain": [
              "tensor(8)"
            ]
          },
          "metadata": {},
          "execution_count": 3
        }
      ]
    },
    {
      "cell_type": "code",
      "source": [
        "scaler.ndim"
      ],
      "metadata": {
        "colab": {
          "base_uri": "https://localhost:8080/"
        },
        "id": "IefLKTsx-2lJ",
        "outputId": "cd2c69a4-e2b6-4483-f395-98f25b67952b"
      },
      "execution_count": 4,
      "outputs": [
        {
          "output_type": "execute_result",
          "data": {
            "text/plain": [
              "0"
            ]
          },
          "metadata": {},
          "execution_count": 4
        }
      ]
    },
    {
      "cell_type": "code",
      "source": [
        "scaler.item()"
      ],
      "metadata": {
        "colab": {
          "base_uri": "https://localhost:8080/"
        },
        "id": "koNBhjBT_Dwo",
        "outputId": "d92fa5a8-f74d-4a32-f598-9592df0696d2"
      },
      "execution_count": 5,
      "outputs": [
        {
          "output_type": "execute_result",
          "data": {
            "text/plain": [
              "8"
            ]
          },
          "metadata": {},
          "execution_count": 5
        }
      ]
    },
    {
      "cell_type": "markdown",
      "source": [
        "# **Vector**"
      ],
      "metadata": {
        "id": "q_s-vTd-C0JD"
      }
    },
    {
      "cell_type": "code",
      "source": [
        "vector = torch.tensor([8,8])\n",
        "vector"
      ],
      "metadata": {
        "colab": {
          "base_uri": "https://localhost:8080/"
        },
        "id": "mTFb9IJk_ibQ",
        "outputId": "ec3fd21c-07ed-4e3f-de4e-c7424068db6c"
      },
      "execution_count": 6,
      "outputs": [
        {
          "output_type": "execute_result",
          "data": {
            "text/plain": [
              "tensor([8, 8])"
            ]
          },
          "metadata": {},
          "execution_count": 6
        }
      ]
    },
    {
      "cell_type": "code",
      "source": [
        "vector.ndim"
      ],
      "metadata": {
        "colab": {
          "base_uri": "https://localhost:8080/"
        },
        "id": "bAICpaQy_1hd",
        "outputId": "ef6b2677-a1a2-469c-9b85-cb1330352d1a"
      },
      "execution_count": 7,
      "outputs": [
        {
          "output_type": "execute_result",
          "data": {
            "text/plain": [
              "1"
            ]
          },
          "metadata": {},
          "execution_count": 7
        }
      ]
    },
    {
      "cell_type": "code",
      "source": [
        "vector.shape"
      ],
      "metadata": {
        "colab": {
          "base_uri": "https://localhost:8080/"
        },
        "id": "7dFxbo9e_4x3",
        "outputId": "34a17ee1-e81b-45f2-a749-fe0d9b775953"
      },
      "execution_count": 8,
      "outputs": [
        {
          "output_type": "execute_result",
          "data": {
            "text/plain": [
              "torch.Size([2])"
            ]
          },
          "metadata": {},
          "execution_count": 8
        }
      ]
    },
    {
      "cell_type": "markdown",
      "source": [
        "# **Matrix**"
      ],
      "metadata": {
        "id": "Jd96_KRIC6eX"
      }
    },
    {
      "cell_type": "code",
      "source": [
        "matrix = torch.tensor([[1,2,3],[4,5,6],[7,8,9]])\n",
        "matrix"
      ],
      "metadata": {
        "colab": {
          "base_uri": "https://localhost:8080/"
        },
        "id": "sxFZoGOaAEjM",
        "outputId": "053d4353-87c2-4cfc-88d2-6284490ed373"
      },
      "execution_count": 9,
      "outputs": [
        {
          "output_type": "execute_result",
          "data": {
            "text/plain": [
              "tensor([[1, 2, 3],\n",
              "        [4, 5, 6],\n",
              "        [7, 8, 9]])"
            ]
          },
          "metadata": {},
          "execution_count": 9
        }
      ]
    },
    {
      "cell_type": "code",
      "source": [
        "matrix.ndim"
      ],
      "metadata": {
        "colab": {
          "base_uri": "https://localhost:8080/"
        },
        "id": "b0oXEYI8A2Jm",
        "outputId": "3e4b302a-5f5f-4cbc-ca69-c31d2e63b40d"
      },
      "execution_count": 10,
      "outputs": [
        {
          "output_type": "execute_result",
          "data": {
            "text/plain": [
              "2"
            ]
          },
          "metadata": {},
          "execution_count": 10
        }
      ]
    },
    {
      "cell_type": "code",
      "source": [
        "matrix.shape"
      ],
      "metadata": {
        "colab": {
          "base_uri": "https://localhost:8080/"
        },
        "id": "Mi3ZdPVmBC00",
        "outputId": "e45c35f9-8217-404d-8c5d-d7332205d564"
      },
      "execution_count": 11,
      "outputs": [
        {
          "output_type": "execute_result",
          "data": {
            "text/plain": [
              "torch.Size([3, 3])"
            ]
          },
          "metadata": {},
          "execution_count": 11
        }
      ]
    },
    {
      "cell_type": "markdown",
      "source": [
        "# **Tensor**"
      ],
      "metadata": {
        "id": "u2qOAz-KCQ7_"
      }
    },
    {
      "cell_type": "code",
      "source": [
        "tensor = torch.tensor([[[1,2,3,9],[4,5,6,8],[7,8,9,9]]])\n",
        "tensor"
      ],
      "metadata": {
        "colab": {
          "base_uri": "https://localhost:8080/"
        },
        "id": "e2MenGA5BL-R",
        "outputId": "3a4a7d57-c6e9-4046-b215-e96266cae524"
      },
      "execution_count": 12,
      "outputs": [
        {
          "output_type": "execute_result",
          "data": {
            "text/plain": [
              "tensor([[[1, 2, 3, 9],\n",
              "         [4, 5, 6, 8],\n",
              "         [7, 8, 9, 9]]])"
            ]
          },
          "metadata": {},
          "execution_count": 12
        }
      ]
    },
    {
      "cell_type": "code",
      "source": [
        "tensor.ndim"
      ],
      "metadata": {
        "colab": {
          "base_uri": "https://localhost:8080/"
        },
        "id": "W4dCh1ooECt0",
        "outputId": "abddcb07-0a6b-45b1-e53f-383fadf747e7"
      },
      "execution_count": 13,
      "outputs": [
        {
          "output_type": "execute_result",
          "data": {
            "text/plain": [
              "3"
            ]
          },
          "metadata": {},
          "execution_count": 13
        }
      ]
    },
    {
      "cell_type": "code",
      "source": [
        "tensor.shape"
      ],
      "metadata": {
        "colab": {
          "base_uri": "https://localhost:8080/"
        },
        "id": "X0-BkecWEFOh",
        "outputId": "f09cb5fb-85cf-490c-f9a7-bfcf3420598a"
      },
      "execution_count": 14,
      "outputs": [
        {
          "output_type": "execute_result",
          "data": {
            "text/plain": [
              "torch.Size([1, 3, 4])"
            ]
          },
          "metadata": {},
          "execution_count": 14
        }
      ]
    },
    {
      "cell_type": "markdown",
      "source": [
        "# **Random Tensor**"
      ],
      "metadata": {
        "id": "xMjTMAWBFmTm"
      }
    },
    {
      "cell_type": "code",
      "source": [
        "random_simple = torch.rand(size=(5,5))\n",
        "random_simple"
      ],
      "metadata": {
        "colab": {
          "base_uri": "https://localhost:8080/"
        },
        "id": "x0k-U1XKGfd4",
        "outputId": "633a4501-3884-4039-a738-c692c3386dea"
      },
      "execution_count": 15,
      "outputs": [
        {
          "output_type": "execute_result",
          "data": {
            "text/plain": [
              "tensor([[0.8318, 0.6712, 0.1208, 0.7527, 0.0663],\n",
              "        [0.8224, 0.9374, 0.5816, 0.9305, 0.1363],\n",
              "        [0.2086, 0.9615, 0.6086, 0.2410, 0.8281],\n",
              "        [0.3592, 0.7204, 0.7236, 0.6370, 0.4351],\n",
              "        [0.1785, 0.7203, 0.1314, 0.3512, 0.1382]])"
            ]
          },
          "metadata": {},
          "execution_count": 15
        }
      ]
    },
    {
      "cell_type": "code",
      "source": [
        "random_tensor = torch.randn(2,3)\n",
        "random_tensor"
      ],
      "metadata": {
        "colab": {
          "base_uri": "https://localhost:8080/"
        },
        "id": "UbltS9nHEHZv",
        "outputId": "dc4f80a3-ffbf-43d9-903a-50334264e534"
      },
      "execution_count": 16,
      "outputs": [
        {
          "output_type": "execute_result",
          "data": {
            "text/plain": [
              "tensor([[-0.1848,  0.1766,  0.1122],\n",
              "        [-1.2428,  0.5591,  0.0277]])"
            ]
          },
          "metadata": {},
          "execution_count": 16
        }
      ]
    },
    {
      "cell_type": "code",
      "source": [
        "big_random_tensor = torch.randn(5,2,3)\n",
        "big_random_tensor"
      ],
      "metadata": {
        "colab": {
          "base_uri": "https://localhost:8080/"
        },
        "id": "U1pNxpJrFwpF",
        "outputId": "0b0797ba-e38a-4e01-b3e4-2d23ea09ede2"
      },
      "execution_count": 17,
      "outputs": [
        {
          "output_type": "execute_result",
          "data": {
            "text/plain": [
              "tensor([[[ 1.5758, -0.0969,  0.4825],\n",
              "         [-1.7271,  0.3846, -0.7803]],\n",
              "\n",
              "        [[ 0.4727, -0.0835, -1.4550],\n",
              "         [ 0.7458, -0.2952, -0.1685]],\n",
              "\n",
              "        [[ 1.5126,  0.7132,  2.0788],\n",
              "         [ 1.8777, -2.6047,  0.4125]],\n",
              "\n",
              "        [[-0.3003, -0.2943,  1.1093],\n",
              "         [ 0.0293, -1.2788, -0.0343]],\n",
              "\n",
              "        [[-0.9811, -0.9204, -1.8505],\n",
              "         [-0.7885, -0.1388,  0.4524]]])"
            ]
          },
          "metadata": {},
          "execution_count": 17
        }
      ]
    },
    {
      "cell_type": "markdown",
      "source": [
        "# **Zeros and Ones**"
      ],
      "metadata": {
        "id": "49CBSPl3H6Tv"
      }
    },
    {
      "cell_type": "code",
      "source": [
        "zeros = torch.zeros(5,2)\n",
        "zeros"
      ],
      "metadata": {
        "colab": {
          "base_uri": "https://localhost:8080/"
        },
        "id": "9olUNgUqHQ2E",
        "outputId": "fac0af31-d6cd-4198-f407-9b8d48cd951a"
      },
      "execution_count": 18,
      "outputs": [
        {
          "output_type": "execute_result",
          "data": {
            "text/plain": [
              "tensor([[0., 0.],\n",
              "        [0., 0.],\n",
              "        [0., 0.],\n",
              "        [0., 0.],\n",
              "        [0., 0.]])"
            ]
          },
          "metadata": {},
          "execution_count": 18
        }
      ]
    },
    {
      "cell_type": "code",
      "source": [
        "ones = torch.ones(2,5)\n",
        "ones"
      ],
      "metadata": {
        "colab": {
          "base_uri": "https://localhost:8080/"
        },
        "id": "c3U3eR4wIGLm",
        "outputId": "e7c4e0ff-f229-43a0-d6c0-35bec2f745b5"
      },
      "execution_count": 19,
      "outputs": [
        {
          "output_type": "execute_result",
          "data": {
            "text/plain": [
              "tensor([[1., 1., 1., 1., 1.],\n",
              "        [1., 1., 1., 1., 1.]])"
            ]
          },
          "metadata": {},
          "execution_count": 19
        }
      ]
    },
    {
      "cell_type": "markdown",
      "source": [
        "# **Aranges and Tensor_like**"
      ],
      "metadata": {
        "id": "nPKn_pgFIdyW"
      }
    },
    {
      "cell_type": "code",
      "source": [
        "arange = torch.arange(1,15)\n",
        "arange"
      ],
      "metadata": {
        "colab": {
          "base_uri": "https://localhost:8080/"
        },
        "id": "znSXI9JzIOVs",
        "outputId": "b212ae6f-bf02-498e-c8ee-926b6bdc9981"
      },
      "execution_count": 20,
      "outputs": [
        {
          "output_type": "execute_result",
          "data": {
            "text/plain": [
              "tensor([ 1,  2,  3,  4,  5,  6,  7,  8,  9, 10, 11, 12, 13, 14])"
            ]
          },
          "metadata": {},
          "execution_count": 20
        }
      ]
    },
    {
      "cell_type": "code",
      "source": [
        "arange = torch.arange(1,10,2)\n",
        "arange"
      ],
      "metadata": {
        "colab": {
          "base_uri": "https://localhost:8080/"
        },
        "id": "dEvMRvZIJAEs",
        "outputId": "2a8abdca-f0e0-4026-acb4-4da15644d303"
      },
      "execution_count": 21,
      "outputs": [
        {
          "output_type": "execute_result",
          "data": {
            "text/plain": [
              "tensor([1, 3, 5, 7, 9])"
            ]
          },
          "metadata": {},
          "execution_count": 21
        }
      ]
    },
    {
      "cell_type": "code",
      "source": [
        "sample = torch.rand(9,9)\n",
        "zeros_LK = torch.zeros_like(sample)\n",
        "zeros_LK"
      ],
      "metadata": {
        "colab": {
          "base_uri": "https://localhost:8080/"
        },
        "id": "TabLGSUQJF7Y",
        "outputId": "dda7d4e9-03f4-4daa-8606-7b89b4c000b9"
      },
      "execution_count": 22,
      "outputs": [
        {
          "output_type": "execute_result",
          "data": {
            "text/plain": [
              "tensor([[0., 0., 0., 0., 0., 0., 0., 0., 0.],\n",
              "        [0., 0., 0., 0., 0., 0., 0., 0., 0.],\n",
              "        [0., 0., 0., 0., 0., 0., 0., 0., 0.],\n",
              "        [0., 0., 0., 0., 0., 0., 0., 0., 0.],\n",
              "        [0., 0., 0., 0., 0., 0., 0., 0., 0.],\n",
              "        [0., 0., 0., 0., 0., 0., 0., 0., 0.],\n",
              "        [0., 0., 0., 0., 0., 0., 0., 0., 0.],\n",
              "        [0., 0., 0., 0., 0., 0., 0., 0., 0.],\n",
              "        [0., 0., 0., 0., 0., 0., 0., 0., 0.]])"
            ]
          },
          "metadata": {},
          "execution_count": 22
        }
      ]
    },
    {
      "cell_type": "code",
      "source": [
        "ones_LK = torch.ones_like(zeros_LK)\n",
        "ones_LK"
      ],
      "metadata": {
        "colab": {
          "base_uri": "https://localhost:8080/"
        },
        "id": "40on7v6dKCyc",
        "outputId": "4456b90d-f13b-4960-c53a-091bbcd8b801"
      },
      "execution_count": 23,
      "outputs": [
        {
          "output_type": "execute_result",
          "data": {
            "text/plain": [
              "tensor([[1., 1., 1., 1., 1., 1., 1., 1., 1.],\n",
              "        [1., 1., 1., 1., 1., 1., 1., 1., 1.],\n",
              "        [1., 1., 1., 1., 1., 1., 1., 1., 1.],\n",
              "        [1., 1., 1., 1., 1., 1., 1., 1., 1.],\n",
              "        [1., 1., 1., 1., 1., 1., 1., 1., 1.],\n",
              "        [1., 1., 1., 1., 1., 1., 1., 1., 1.],\n",
              "        [1., 1., 1., 1., 1., 1., 1., 1., 1.],\n",
              "        [1., 1., 1., 1., 1., 1., 1., 1., 1.],\n",
              "        [1., 1., 1., 1., 1., 1., 1., 1., 1.]])"
            ]
          },
          "metadata": {},
          "execution_count": 23
        }
      ]
    },
    {
      "cell_type": "code",
      "source": [
        "eyes_tensor = torch.eye(5)\n",
        "eyes_tensor"
      ],
      "metadata": {
        "colab": {
          "base_uri": "https://localhost:8080/"
        },
        "id": "SDaQGSSaKYqF",
        "outputId": "af1c769e-1f3c-440c-ec77-051cdb560fb2"
      },
      "execution_count": 24,
      "outputs": [
        {
          "output_type": "execute_result",
          "data": {
            "text/plain": [
              "tensor([[1., 0., 0., 0., 0.],\n",
              "        [0., 1., 0., 0., 0.],\n",
              "        [0., 0., 1., 0., 0.],\n",
              "        [0., 0., 0., 1., 0.],\n",
              "        [0., 0., 0., 0., 1.]])"
            ]
          },
          "metadata": {},
          "execution_count": 24
        }
      ]
    },
    {
      "cell_type": "markdown",
      "source": [
        "**torch Full**"
      ],
      "metadata": {
        "id": "0Q0zpGnTzw-B"
      }
    },
    {
      "cell_type": "code",
      "source": [
        "torch_full = torch.full((5,5),7)\n",
        "torch_full"
      ],
      "metadata": {
        "colab": {
          "base_uri": "https://localhost:8080/"
        },
        "id": "Ucy8h5JBzml6",
        "outputId": "7325d0ac-f3db-4605-d5ec-f4ebc5f35998"
      },
      "execution_count": 27,
      "outputs": [
        {
          "output_type": "execute_result",
          "data": {
            "text/plain": [
              "tensor([[7, 7, 7, 7, 7],\n",
              "        [7, 7, 7, 7, 7],\n",
              "        [7, 7, 7, 7, 7],\n",
              "        [7, 7, 7, 7, 7],\n",
              "        [7, 7, 7, 7, 7]])"
            ]
          },
          "metadata": {},
          "execution_count": 27
        }
      ]
    },
    {
      "cell_type": "markdown",
      "source": [
        "**Torch Linspace**"
      ],
      "metadata": {
        "id": "KMXqXZdMzvK3"
      }
    },
    {
      "cell_type": "code",
      "source": [
        "torch_linspace = torch.linspace(1,14,50)\n",
        "torch_linspace"
      ],
      "metadata": {
        "colab": {
          "base_uri": "https://localhost:8080/"
        },
        "id": "WLCpeeF50SC2",
        "outputId": "1a634d92-a728-4764-f7ba-374b51eb57da"
      },
      "execution_count": 28,
      "outputs": [
        {
          "output_type": "execute_result",
          "data": {
            "text/plain": [
              "tensor([ 1.0000,  1.2653,  1.5306,  1.7959,  2.0612,  2.3265,  2.5918,  2.8571,\n",
              "         3.1224,  3.3878,  3.6531,  3.9184,  4.1837,  4.4490,  4.7143,  4.9796,\n",
              "         5.2449,  5.5102,  5.7755,  6.0408,  6.3061,  6.5714,  6.8367,  7.1020,\n",
              "         7.3673,  7.6327,  7.8980,  8.1633,  8.4286,  8.6939,  8.9592,  9.2245,\n",
              "         9.4898,  9.7551, 10.0204, 10.2857, 10.5510, 10.8163, 11.0816, 11.3469,\n",
              "        11.6122, 11.8776, 12.1429, 12.4082, 12.6735, 12.9388, 13.2041, 13.4694,\n",
              "        13.7347, 14.0000])"
            ]
          },
          "metadata": {},
          "execution_count": 28
        }
      ]
    },
    {
      "cell_type": "markdown",
      "source": [
        "# **Tensor Datatypes**"
      ],
      "metadata": {
        "id": "moFKtZks1KSr"
      }
    },
    {
      "cell_type": "code",
      "source": [
        "default_datatype = torch.rand(2,3)\n",
        "default_datatype.dtype"
      ],
      "metadata": {
        "colab": {
          "base_uri": "https://localhost:8080/"
        },
        "id": "4mHdfMio0o9I",
        "outputId": "66be3f8b-8f66-4edc-d23c-17a15ca7a132"
      },
      "execution_count": 31,
      "outputs": [
        {
          "output_type": "execute_result",
          "data": {
            "text/plain": [
              "torch.float32"
            ]
          },
          "metadata": {},
          "execution_count": 31
        }
      ]
    },
    {
      "cell_type": "code",
      "source": [
        "custom_datatype = torch.arange(.2,3,dtype=int)\n",
        "custom_datatype.dtype"
      ],
      "metadata": {
        "colab": {
          "base_uri": "https://localhost:8080/"
        },
        "id": "hTwrrDop2NYX",
        "outputId": "40ef59f2-b790-4e87-dda6-c0ea68ccccf6"
      },
      "execution_count": 36,
      "outputs": [
        {
          "output_type": "execute_result",
          "data": {
            "text/plain": [
              "torch.int64"
            ]
          },
          "metadata": {},
          "execution_count": 36
        }
      ]
    },
    {
      "cell_type": "markdown",
      "source": [
        "**Change Datatype**"
      ],
      "metadata": {
        "id": "7m9wDtuC4DGY"
      }
    },
    {
      "cell_type": "code",
      "source": [
        "before_change_datatype = torch.arange(2.,5)\n",
        "before_change_datatype.dtype"
      ],
      "metadata": {
        "colab": {
          "base_uri": "https://localhost:8080/"
        },
        "id": "tVPcLSrE2l2k",
        "outputId": "0053222a-bf02-4b63-b8c8-1c1e22877169"
      },
      "execution_count": 38,
      "outputs": [
        {
          "output_type": "execute_result",
          "data": {
            "text/plain": [
              "torch.float32"
            ]
          },
          "metadata": {},
          "execution_count": 38
        }
      ]
    },
    {
      "cell_type": "code",
      "source": [
        "after_change_datatype = before_change_datatype.type(torch.float16)\n",
        "after_change_datatype.dtype"
      ],
      "metadata": {
        "colab": {
          "base_uri": "https://localhost:8080/"
        },
        "id": "GDpVoD4a4U1S",
        "outputId": "b2c38ff2-f52a-4f25-a4b2-ade62f383abd"
      },
      "execution_count": 40,
      "outputs": [
        {
          "output_type": "execute_result",
          "data": {
            "text/plain": [
              "torch.float16"
            ]
          },
          "metadata": {},
          "execution_count": 40
        }
      ]
    },
    {
      "cell_type": "code",
      "source": [
        "after_change_datatype = before_change_datatype.type(torch.int8)\n",
        "after_change_datatype.dtype"
      ],
      "metadata": {
        "colab": {
          "base_uri": "https://localhost:8080/"
        },
        "id": "8dk5qHXc4TG0",
        "outputId": "844c9a0a-d029-41c2-cbce-4ac01f15b3f8"
      },
      "execution_count": 42,
      "outputs": [
        {
          "output_type": "execute_result",
          "data": {
            "text/plain": [
              "torch.int8"
            ]
          },
          "metadata": {},
          "execution_count": 42
        }
      ]
    },
    {
      "cell_type": "markdown",
      "source": [
        "**Tensor Information**"
      ],
      "metadata": {
        "id": "h0A0b3Tk47I1"
      }
    },
    {
      "cell_type": "code",
      "source": [
        "x = torch.rand(3,5)\n",
        "x.shape, x.dtype, x.device"
      ],
      "metadata": {
        "colab": {
          "base_uri": "https://localhost:8080/"
        },
        "id": "oNrXVtF-4vhx",
        "outputId": "4958c7d9-01ac-4ecd-e90e-7c41abed8fbc"
      },
      "execution_count": 43,
      "outputs": [
        {
          "output_type": "execute_result",
          "data": {
            "text/plain": [
              "(torch.Size([3, 5]), torch.float32, device(type='cpu'))"
            ]
          },
          "metadata": {},
          "execution_count": 43
        }
      ]
    },
    {
      "cell_type": "markdown",
      "source": [
        "**tensor Manipulation**"
      ],
      "metadata": {
        "id": "JI5DqOb05fwy"
      }
    },
    {
      "cell_type": "markdown",
      "source": [
        "**Sum or Addition**"
      ],
      "metadata": {
        "id": "-OaqWpLW5zn0"
      }
    },
    {
      "cell_type": "code",
      "source": [
        "x = torch.tensor([1,2,3])\n",
        "x + 15"
      ],
      "metadata": {
        "colab": {
          "base_uri": "https://localhost:8080/"
        },
        "id": "LA_kf4oP5UwQ",
        "outputId": "d6925622-e34d-4b31-bf0f-e24631bdb26b"
      },
      "execution_count": 44,
      "outputs": [
        {
          "output_type": "execute_result",
          "data": {
            "text/plain": [
              "tensor([16, 17, 18])"
            ]
          },
          "metadata": {},
          "execution_count": 44
        }
      ]
    },
    {
      "cell_type": "code",
      "source": [
        "y = x+15\n",
        "y"
      ],
      "metadata": {
        "colab": {
          "base_uri": "https://localhost:8080/"
        },
        "id": "rQ7Wr6nh6BUn",
        "outputId": "8c604a1b-a525-4619-c27f-a05ce1145830"
      },
      "execution_count": 46,
      "outputs": [
        {
          "output_type": "execute_result",
          "data": {
            "text/plain": [
              "tensor([16, 17, 18])"
            ]
          },
          "metadata": {},
          "execution_count": 46
        }
      ]
    },
    {
      "cell_type": "code",
      "source": [
        "z = x+y\n",
        "z"
      ],
      "metadata": {
        "colab": {
          "base_uri": "https://localhost:8080/"
        },
        "id": "K1JfsZ556F6o",
        "outputId": "961f64aa-37fa-4908-bb4c-07acac479143"
      },
      "execution_count": 47,
      "outputs": [
        {
          "output_type": "execute_result",
          "data": {
            "text/plain": [
              "tensor([17, 19, 21])"
            ]
          },
          "metadata": {},
          "execution_count": 47
        }
      ]
    },
    {
      "cell_type": "code",
      "source": [
        "torch.add(x,y)"
      ],
      "metadata": {
        "colab": {
          "base_uri": "https://localhost:8080/"
        },
        "id": "9XE7DRG-6O3V",
        "outputId": "2073a0a9-ee15-4198-ed53-73a42264de53"
      },
      "execution_count": 48,
      "outputs": [
        {
          "output_type": "execute_result",
          "data": {
            "text/plain": [
              "tensor([17, 19, 21])"
            ]
          },
          "metadata": {},
          "execution_count": 48
        }
      ]
    },
    {
      "cell_type": "markdown",
      "source": [
        "**Substraction**"
      ],
      "metadata": {
        "id": "J9mavGPy6ggf"
      }
    },
    {
      "cell_type": "code",
      "source": [
        "s = x-2\n",
        "s"
      ],
      "metadata": {
        "colab": {
          "base_uri": "https://localhost:8080/"
        },
        "id": "NdrlykOV6q53",
        "outputId": "6a65e0da-7958-4134-b73c-dc65be3477ff"
      },
      "execution_count": 50,
      "outputs": [
        {
          "output_type": "execute_result",
          "data": {
            "text/plain": [
              "tensor([-1,  0,  1])"
            ]
          },
          "metadata": {},
          "execution_count": 50
        }
      ]
    },
    {
      "cell_type": "code",
      "source": [
        "s = x-y\n",
        "s"
      ],
      "metadata": {
        "colab": {
          "base_uri": "https://localhost:8080/"
        },
        "id": "w0-j64376bgg",
        "outputId": "c84f9fe0-40f6-4527-efb2-0452c00c6421"
      },
      "execution_count": 49,
      "outputs": [
        {
          "output_type": "execute_result",
          "data": {
            "text/plain": [
              "tensor([-15, -15, -15])"
            ]
          },
          "metadata": {},
          "execution_count": 49
        }
      ]
    },
    {
      "cell_type": "code",
      "source": [
        "s = torch.sub(x,y)\n",
        "s"
      ],
      "metadata": {
        "colab": {
          "base_uri": "https://localhost:8080/"
        },
        "id": "xqK82kP76nNm",
        "outputId": "e681b952-ce47-4eb5-a775-43ba5824f376"
      },
      "execution_count": 51,
      "outputs": [
        {
          "output_type": "execute_result",
          "data": {
            "text/plain": [
              "tensor([-15, -15, -15])"
            ]
          },
          "metadata": {},
          "execution_count": 51
        }
      ]
    },
    {
      "cell_type": "markdown",
      "source": [
        "**Multiplication Elements-wise**"
      ],
      "metadata": {
        "id": "UU_9Htgb67oJ"
      }
    },
    {
      "cell_type": "code",
      "source": [
        "M = x * 10\n",
        "M"
      ],
      "metadata": {
        "colab": {
          "base_uri": "https://localhost:8080/"
        },
        "id": "fG9y_yD-64pn",
        "outputId": "c702438b-fdef-411a-d3c0-5d6bf85905c4"
      },
      "execution_count": 52,
      "outputs": [
        {
          "output_type": "execute_result",
          "data": {
            "text/plain": [
              "tensor([10, 20, 30])"
            ]
          },
          "metadata": {},
          "execution_count": 52
        }
      ]
    },
    {
      "cell_type": "code",
      "source": [
        "M = torch.mul(x,20)\n",
        "M"
      ],
      "metadata": {
        "colab": {
          "base_uri": "https://localhost:8080/"
        },
        "id": "LyqK9Oc87Hyb",
        "outputId": "d8d1227d-27e3-46c4-ba82-49d9e9fe3921"
      },
      "execution_count": 54,
      "outputs": [
        {
          "output_type": "execute_result",
          "data": {
            "text/plain": [
              "tensor([20, 40, 60])"
            ]
          },
          "metadata": {},
          "execution_count": 54
        }
      ]
    },
    {
      "cell_type": "code",
      "source": [
        "M = x*x\n",
        "M"
      ],
      "metadata": {
        "colab": {
          "base_uri": "https://localhost:8080/"
        },
        "id": "6rItmCFr7MWC",
        "outputId": "7e660899-0907-4ee7-ec31-975203cf43de"
      },
      "execution_count": 55,
      "outputs": [
        {
          "output_type": "execute_result",
          "data": {
            "text/plain": [
              "tensor([1, 4, 9])"
            ]
          },
          "metadata": {},
          "execution_count": 55
        }
      ]
    },
    {
      "cell_type": "markdown",
      "source": [
        "**Division**"
      ],
      "metadata": {
        "id": "AHNiEqdf7bsM"
      }
    },
    {
      "cell_type": "code",
      "source": [
        "D = x /2\n",
        "D"
      ],
      "metadata": {
        "colab": {
          "base_uri": "https://localhost:8080/"
        },
        "id": "WhuHHVO_7SO1",
        "outputId": "1598c140-f911-44fe-f87b-44a00951c81e"
      },
      "execution_count": 56,
      "outputs": [
        {
          "output_type": "execute_result",
          "data": {
            "text/plain": [
              "tensor([0.5000, 1.0000, 1.5000])"
            ]
          },
          "metadata": {},
          "execution_count": 56
        }
      ]
    },
    {
      "cell_type": "code",
      "source": [
        "D = x/y\n",
        "D"
      ],
      "metadata": {
        "colab": {
          "base_uri": "https://localhost:8080/"
        },
        "id": "fy4D3aWn7kQq",
        "outputId": "b15b2074-cd80-4b0d-8a76-6524018c114c"
      },
      "execution_count": 57,
      "outputs": [
        {
          "output_type": "execute_result",
          "data": {
            "text/plain": [
              "tensor([0.0625, 0.1176, 0.1667])"
            ]
          },
          "metadata": {},
          "execution_count": 57
        }
      ]
    },
    {
      "cell_type": "markdown",
      "source": [
        "**Matrix Multiplication**"
      ],
      "metadata": {
        "id": "Rfd00R_c7r7M"
      }
    },
    {
      "cell_type": "code",
      "source": [
        "matrix_a = torch.tensor([[1,2,3],\n",
        "                        [4,5,6]])\n",
        "matrix_b = torch.tensor([[7,8,9],\n",
        "                        [7,6,5]])\n",
        "matrix_a, matrix_b"
      ],
      "metadata": {
        "colab": {
          "base_uri": "https://localhost:8080/"
        },
        "id": "YJ907-vZ7pFj",
        "outputId": "38880701-eff5-403c-9a50-efd878f730c4"
      },
      "execution_count": 60,
      "outputs": [
        {
          "output_type": "execute_result",
          "data": {
            "text/plain": [
              "(tensor([[1, 2, 3],\n",
              "         [4, 5, 6]]),\n",
              " tensor([[7, 8, 9],\n",
              "         [7, 6, 5]]))"
            ]
          },
          "metadata": {},
          "execution_count": 60
        }
      ]
    },
    {
      "cell_type": "code",
      "source": [
        "matrix_a.shape , matrix_b.shape"
      ],
      "metadata": {
        "colab": {
          "base_uri": "https://localhost:8080/"
        },
        "id": "fCrYPDrr8g8v",
        "outputId": "c24fd18b-fe85-4996-e824-b5ae1245c423"
      },
      "execution_count": 61,
      "outputs": [
        {
          "output_type": "execute_result",
          "data": {
            "text/plain": [
              "(torch.Size([2, 3]), torch.Size([2, 3]))"
            ]
          },
          "metadata": {},
          "execution_count": 61
        }
      ]
    },
    {
      "cell_type": "code",
      "source": [
        "matrix_a * matrix_b"
      ],
      "metadata": {
        "colab": {
          "base_uri": "https://localhost:8080/"
        },
        "id": "q9ad2APt9Jer",
        "outputId": "d589c6ee-de2c-4679-8dbf-8035e641600d"
      },
      "execution_count": 66,
      "outputs": [
        {
          "output_type": "execute_result",
          "data": {
            "text/plain": [
              "tensor([[ 7, 16, 27],\n",
              "        [28, 30, 30]])"
            ]
          },
          "metadata": {},
          "execution_count": 66
        }
      ]
    },
    {
      "cell_type": "code",
      "source": [
        "matrix_c = matrix_b.T\n",
        "matrix_c.shape"
      ],
      "metadata": {
        "colab": {
          "base_uri": "https://localhost:8080/"
        },
        "id": "winrmpEV8L38",
        "outputId": "32e706ab-7558-46dc-ca16-a1991ce64cdc"
      },
      "execution_count": 63,
      "outputs": [
        {
          "output_type": "execute_result",
          "data": {
            "text/plain": [
              "torch.Size([3, 2])"
            ]
          },
          "metadata": {},
          "execution_count": 63
        }
      ]
    },
    {
      "cell_type": "code",
      "source": [
        "mul_matrix = matrix_a @ matrix_c\n",
        "mul_matrix"
      ],
      "metadata": {
        "colab": {
          "base_uri": "https://localhost:8080/"
        },
        "id": "ACx-X_0_8y6L",
        "outputId": "b5c18184-ce29-4464-890e-cc959ce621ee"
      },
      "execution_count": 65,
      "outputs": [
        {
          "output_type": "execute_result",
          "data": {
            "text/plain": [
              "tensor([[ 50,  34],\n",
              "        [122,  88]])"
            ]
          },
          "metadata": {},
          "execution_count": 65
        }
      ]
    },
    {
      "cell_type": "code",
      "source": [
        "torch.mm(matrix_a,matrix_c)"
      ],
      "metadata": {
        "colab": {
          "base_uri": "https://localhost:8080/"
        },
        "id": "ez0hjtgu9AML",
        "outputId": "07b6090d-ffb9-4449-be4f-c351de52db54"
      },
      "execution_count": 67,
      "outputs": [
        {
          "output_type": "execute_result",
          "data": {
            "text/plain": [
              "tensor([[ 50,  34],\n",
              "        [122,  88]])"
            ]
          },
          "metadata": {},
          "execution_count": 67
        }
      ]
    },
    {
      "cell_type": "code",
      "source": [
        "torch.matmul(matrix_a,matrix_c)"
      ],
      "metadata": {
        "colab": {
          "base_uri": "https://localhost:8080/"
        },
        "id": "kfxqVCry9wCw",
        "outputId": "dad7125a-0574-4d0b-b840-db882fec8cb9"
      },
      "execution_count": 69,
      "outputs": [
        {
          "output_type": "execute_result",
          "data": {
            "text/plain": [
              "tensor([[ 50,  34],\n",
              "        [122,  88]])"
            ]
          },
          "metadata": {},
          "execution_count": 69
        }
      ]
    },
    {
      "cell_type": "code",
      "source": [],
      "metadata": {
        "id": "SyqMOSDj97eG"
      },
      "execution_count": null,
      "outputs": []
    }
  ]
}